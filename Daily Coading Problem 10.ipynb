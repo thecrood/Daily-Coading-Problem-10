{
 "cells": [
  {
   "cell_type": "markdown",
   "id": "06ed2555",
   "metadata": {},
   "source": [
    "# Daily Coading Problem 10"
   ]
  },
  {
   "cell_type": "markdown",
   "id": "afd4f7e5",
   "metadata": {},
   "source": [
    "This problem was asked by Apple.\n",
    "\n",
    "Implement a job scheduler which takes in a function f and an integer n, and calls f after n milliseconds.\n",
    "\n"
   ]
  },
  {
   "cell_type": "code",
   "execution_count": 8,
   "id": "3cfc3b67",
   "metadata": {},
   "outputs": [
    {
     "name": "stdout",
     "output_type": "stream",
     "text": [
      "hello\n"
     ]
    }
   ],
   "source": [
    "from time import sleep\n",
    "\n",
    "def sample_function():\n",
    "    print(\"hello\")\n",
    "\n",
    "def schedule_function(f, delay_in_ms):\n",
    "    delay_in_s = delay_in_ms / 1000\n",
    "    sleep(delay_in_s)\n",
    "    f()\n",
    "\n",
    "schedule_function(sample_function, 10000)"
   ]
  },
  {
   "cell_type": "code",
   "execution_count": null,
   "id": "6cb99dc0",
   "metadata": {},
   "outputs": [],
   "source": []
  }
 ],
 "metadata": {
  "kernelspec": {
   "display_name": "Python 3 (ipykernel)",
   "language": "python",
   "name": "python3"
  },
  "language_info": {
   "codemirror_mode": {
    "name": "ipython",
    "version": 3
   },
   "file_extension": ".py",
   "mimetype": "text/x-python",
   "name": "python",
   "nbconvert_exporter": "python",
   "pygments_lexer": "ipython3",
   "version": "3.8.10"
  }
 },
 "nbformat": 4,
 "nbformat_minor": 5
}
